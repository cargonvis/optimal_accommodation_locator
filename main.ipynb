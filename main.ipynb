{
 "cells": [
  {
   "cell_type": "code",
   "execution_count": 22,
   "id": "cb4e28e5-60ff-42d6-a13e-209c62bdc662",
   "metadata": {
    "tags": []
   },
   "outputs": [
    {
     "name": "stdout",
     "output_type": "stream",
     "text": [
      "Enter the name of the city that you plan to visit:  Helsinki\n",
      "Enter the name of a place you want to visit. Type \"None\" if there are no more places:  Train station\n",
      "Enter the name of a place you want to visit. Type \"None\" if there are no more places:  Helsinki cathedral\n",
      "Enter the name of a place you want to visit. Type \"None\" if there are no more places:  vanha kauppahalli\n",
      "Enter the name of a place you want to visit. Type \"None\" if there are no more places:  None\n"
     ]
    },
    {
     "name": "stderr",
     "output_type": "stream",
     "text": [
      "/home/cargonvis/.local/lib/python3.10/site-packages/sklearn/cluster/_kmeans.py:870: FutureWarning: The default value of `n_init` will change from 10 to 'auto' in 1.4. Set the value of `n_init` explicitly to suppress the warning\n",
      "  warnings.warn(\n"
     ]
    },
    {
     "name": "stdout",
     "output_type": "stream",
     "text": [
      "Best accommodation area: [24.94859452 60.16915982]\n"
     ]
    }
   ],
   "source": [
    "import folium\n",
    "from geopy.geocoders import Nominatim\n",
    "import webbrowser\n",
    "import requests\n",
    "from requests.structures import CaseInsensitiveDict\n",
    "import pandas as pd\n",
    "from sklearn.cluster import KMeans\n",
    "from geopy.distance import geodesic\n",
    "\n",
    "GEOAPIFY_API_KEY = \"YOUR_GEOAPIFY_API_KEY\"\n",
    "\n",
    "city = str(input(\"Enter the name of the city that you plan to visit: \"))\n",
    "limit_results = 20\n",
    "\n",
    "geolocator = Nominatim(user_agent=\"MyApp\")\n",
    "location = geolocator.geocode(city)\n",
    "my_map = folium.Map(location=[location.latitude, location.longitude], zoom_start=12)\n",
    "\n",
    "city_to_place_id_url = f\"https://api.geoapify.com/v1/geocode/search?text={city}&apiKey={GEOAPIFY_API_KEY}\"\n",
    "headers = CaseInsensitiveDict()\n",
    "headers[\"Accept\"] = \"application/json\"\n",
    "resp = requests.get(city_to_place_id_url, headers=headers)\n",
    "result_city = resp.json()\n",
    "country = result_city['features'][0]['properties']['address_line2']\n",
    "\n",
    "data = []\n",
    "adding_places = True\n",
    "\n",
    "while adding_places:\n",
    "    place = str(input('Enter the name of a place you want to visit. Type \"None\" if there are no more places: '))\n",
    "    if place == \"None\":\n",
    "        adding_places = False\n",
    "    else:\n",
    "        place.replace(' ', '%20')\n",
    "        location_to_coordinates_url = f\"https://api.geoapify.com/v1/geocode/search?text={place}%2C%20{city}%2C%20{country}&format=json&apiKey={GEOAPIFY_API_KEY}\"\n",
    "        headers = CaseInsensitiveDict()\n",
    "        headers[\"Accept\"] = \"application/json\"\n",
    "        resp = requests.get(location_to_coordinates_url, headers=headers)\n",
    "        result = resp.json()['results'][0]\n",
    "        name = result.get('name') or place\n",
    "        address = result.get('address_line2')\n",
    "        coordinates = [result['lon'], result['lat']]\n",
    "        data.append({\n",
    "            'Name': name,\n",
    "            'Address': address,\n",
    "            'Coordinates': coordinates\n",
    "        })\n",
    "\n",
    "df = pd.DataFrame(data)\n",
    "\n",
    "for row in df.itertuples(index=False):\n",
    "    name = row.Name\n",
    "    address = row.Address\n",
    "    coordinates = row.Coordinates\n",
    "    marker = folium.Marker(\n",
    "        location=[coordinates[1], coordinates[0]],\n",
    "        icon=folium.Icon(color='blue')\n",
    "    )\n",
    "    popup_html = f\"\"\"\n",
    "    <div style=\"width: 300px;\">\n",
    "        <h3>{name}</h3>\n",
    "        <p><strong>Address:</strong> {address}</p>\n",
    "    </div>\n",
    "    \"\"\"\n",
    "    folium.Popup(popup_html, max_width=400).add_to(marker)\n",
    "    marker.add_to(my_map)\n",
    "\n",
    "coordinates = df['Coordinates'].tolist()\n",
    "kmeans = KMeans(n_clusters=1, random_state=0).fit(coordinates)\n",
    "center = kmeans.cluster_centers_[0]\n",
    "\n",
    "df['Distance'] = df['Coordinates'].apply(lambda x: geodesic(center, x).kilometers)\n",
    "max_distance = df['Distance'].max()\n",
    "\n",
    "circle_radius = 250  # In meters\n",
    "circle_color = '#92ea80'  # Lighter shade of green\n",
    "\n",
    "folium.Circle(\n",
    "    location=[center[1], center[0]],\n",
    "    radius=circle_radius,\n",
    "    color=circle_color,\n",
    "    fill=True,\n",
    "    fill_color=circle_color\n",
    ").add_to(my_map)\n",
    "\n",
    "marker = folium.Marker(\n",
    "    location=[center[1], center[0]],\n",
    "    icon=folium.Icon(color='green')\n",
    ")\n",
    "\n",
    "popup_html = f\"\"\"\n",
    "<div style=\"width: 300px;\">\n",
    "    <h3>Best Location for Accommodation</h3>\n",
    "    <p><strong>Find your ideal accommodation around this area!</strong></p>\n",
    "    <p><strong>Location:</strong> {center[1]}, {center[0]}</p>\n",
    "</div>\n",
    "\"\"\"\n",
    "\n",
    "folium.Popup(popup_html, max_width=400).add_to(marker)\n",
    "marker.add_to(my_map)\n",
    "\n",
    "my_map.save(\"maps/map.html\")\n",
    "webbrowser.open(\"maps/map.html\")\n",
    "\n",
    "print(\"Best accommodation area:\", center)"
   ]
  }
 ],
 "metadata": {
  "kernelspec": {
   "display_name": "Python 3 (ipykernel)",
   "language": "python",
   "name": "python3"
  },
  "language_info": {
   "codemirror_mode": {
    "name": "ipython",
    "version": 3
   },
   "file_extension": ".py",
   "mimetype": "text/x-python",
   "name": "python",
   "nbconvert_exporter": "python",
   "pygments_lexer": "ipython3",
   "version": "3.10.6"
  }
 },
 "nbformat": 4,
 "nbformat_minor": 5
}
